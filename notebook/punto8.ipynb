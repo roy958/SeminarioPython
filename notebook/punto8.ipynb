{
 "cells": [
  {
   "cell_type": "code",
   "execution_count": 1,
   "metadata": {},
   "outputs": [
    {
     "name": "stdout",
     "output_type": "stream",
     "text": [
      "ROYARIAS-242025-FWTJTDB18NTYHT5\n"
     ]
    }
   ],
   "source": [
    "import sys\n",
    "import os\n",
    "sys.path.append(os.path.abspath('../src'))\n",
    "import Function8\n",
    "nombre  = input(\"ingrese un nombre de usuario\")\n",
    "fecha = input(\"ingrese la fecha de hoy\")\n",
    "if (len(nombre) < 15):\n",
    "     print(Function8.descuento(nombre,fecha))\n",
    "else: input(\"el nombre que ingreso es muy largo\")"
   ]
  }
 ],
 "metadata": {
  "kernelspec": {
   "display_name": "venv",
   "language": "python",
   "name": "python3"
  },
  "language_info": {
   "codemirror_mode": {
    "name": "ipython",
    "version": 3
   },
   "file_extension": ".py",
   "mimetype": "text/x-python",
   "name": "python",
   "nbconvert_exporter": "python",
   "pygments_lexer": "ipython3",
   "version": "3.13.2"
  }
 },
 "nbformat": 4,
 "nbformat_minor": 2
}
